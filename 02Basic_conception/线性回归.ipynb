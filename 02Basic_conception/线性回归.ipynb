{
 "cells": [
  {
   "cell_type": "code",
   "execution_count": 16,
   "metadata": {
    "collapsed": true
   },
   "outputs": [],
   "source": [
    "import tensorflow as tf\n",
    "import numpy as np\n",
    "import matplotlib.pyplot as plt"
   ]
  },
  {
   "cell_type": "code",
   "execution_count": 17,
   "metadata": {},
   "outputs": [],
   "source": [
    "# 使用numpy随机生成200个随机点\n",
    "x_data = np.linspace(-0.5, 0.5, 200)[:, np.newaxis]  # 生成了200行你列的数据\n",
    "noise = np.random.normal(0, 0.02, x_data.shape)\n",
    "y_data = np.square(x_data) + noise"
   ]
  },
  {
   "cell_type": "code",
   "execution_count": 18,
   "metadata": {},
   "outputs": [],
   "source": [
    "# 定义两个placeholder\n",
    "x = tf.placeholder(tf.float32, [None, 1])\n",
    "y = tf.placeholder(tf.float32, [None, 1])"
   ]
  },
  {
   "cell_type": "code",
   "execution_count": 22,
   "metadata": {},
   "outputs": [],
   "source": [
    "# 定义神经网络中间层\n",
    "Weight_L1 = tf.Variable(tf.random_normal([1, 10]))\n",
    "Bias_L1 = tf.Variable(tf.random_normal([1, 10]))\n",
    "Wx_plus_b_L1 = tf.add(tf.matmul(x, Weight_L1), Bias_L1)\n",
    "L1 = tf.nn.tanh(Wx_plus_b_L1)\n",
    "\n",
    "# 定义输出层\n",
    "Weight_L2 = tf.Variable(tf.random_normal([10, 1]))\n",
    "Bias_L2 = tf.Variable(tf.random_normal([1, 1]))\n",
    "Wx_plus_b_L2 = tf.add(tf.matmul(L1, Weight_L2), Bias_L2)\n",
    "predict = tf.nn.tanh(Wx_plus_b_L2)"
   ]
  },
  {
   "cell_type": "code",
   "execution_count": 25,
   "metadata": {},
   "outputs": [],
   "source": [
    "# 定义代价函数\n",
    "loss = tf.reduce_mean(tf.square(y_data - predict))\n",
    "# 梯度下降训练\n",
    "train_step = tf.train.GradientDescentOptimizer(0.1).minimize(loss)\n",
    "\n",
    "with tf.Session() as sess:\n",
    "    # 变量初始化\n",
    "    sess.run(tf.global_variables_initializer())\n",
    "    for _ in range(2000):\n",
    "        sess.run(train_step, feed_dict={x: x_data, y: y_data})\n",
    "    # 获得预测值\n",
    "    prediction_value = sess.run(predict, feed_dict={x: x_data})\n",
    "    # 画图\n",
    "    plt.figure()\n",
    "    plt.scatter(x_data, y_data)\n",
    "    plt.plot(x_data, prediction_value, 'r-', lw=5)\n",
    "    plt.show()"
   ]
  },
  {
   "cell_type": "code",
   "execution_count": null,
   "metadata": {},
   "outputs": [],
   "source": []
  }
 ],
 "metadata": {
  "kernelspec": {
   "display_name": "Python 2",
   "language": "python",
   "name": "python2"
  },
  "language_info": {
   "codemirror_mode": {
    "name": "ipython",
    "version": 2
   },
   "file_extension": ".py",
   "mimetype": "text/x-python",
   "name": "python",
   "nbconvert_exporter": "python",
   "pygments_lexer": "ipython2",
   "version": "2.7.6"
  }
 },
 "nbformat": 4,
 "nbformat_minor": 0
}
