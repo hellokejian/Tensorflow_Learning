{
 "cells": [
  {
   "cell_type": "code",
   "execution_count": 2,
   "metadata": {},
   "outputs": [],
   "source": [
    "import tensorflow as tf\n",
    "import numpy as np\n",
    "import matplotlib.pyplot as plt"
   ]
  },
  {
   "cell_type": "code",
   "execution_count": 56,
   "metadata": {},
   "outputs": [],
   "source": [
    "# 使用numpy随机生成200个随机点\n",
    "x_data = np.linspace(-0.5, 0.5, 200)[:,np.newaxis] #生成了200行1列的数据\n",
    "noise = np.random.normal(0, 0.02, x_data.shape)\n",
    "y_data = np.square(x_data) + noise"
   ]
  },
  {
   "cell_type": "code",
   "execution_count": 57,
   "metadata": {},
   "outputs": [
    {
     "data": {
      "text/plain": [
       "0.4402126361107261"
      ]
     },
     "execution_count": 57,
     "metadata": {},
     "output_type": "execute_result"
    }
   ],
   "source": [
    "np.random.normal(loc=0.0, scale=1.0, size=None) \n",
    "# loc：float\n",
    "#     此概率分布的均值（对应着整个分布的中心centre）\n",
    "# scale：float\n",
    "#     此概率分布的标准差（对应于分布的宽度，scale越大越矮胖，scale越小，越瘦高）\n",
    "# size：int or tuple of ints\n",
    "#     输出的shape，默认为None，只输出一个值"
   ]
  },
  {
   "cell_type": "code",
   "execution_count": 58,
   "metadata": {},
   "outputs": [],
   "source": [
    "# 定义两个placeholder\n",
    "x = tf.placeholder(tf.float32, [None, 1])\n",
    "y = tf.placeholder(tf.float32, [None, 1])"
   ]
  },
  {
   "cell_type": "code",
   "execution_count": 59,
   "metadata": {},
   "outputs": [],
   "source": [
    "# 构建一个简单的神经网络\n",
    "# 定义神经网络中间层\n",
    "Weights_L1 = tf.Variable(tf.random_normal([1, 10]))\n",
    "Bias_L1 = tf.Variable(tf.zeros([1, 10]))\n",
    "Wx_plus_b_L1 = tf.add(tf.matmul(x, Weights_L1), Bias_L1)\n",
    "L1 = tf.nn.tanh(Wx_plus_b_L1)\n",
    "\n",
    "#定义输出层\n",
    "Weights_L2 = tf.Variable(tf.random_normal([10, 1]))\n",
    "Bias_L2 = tf.Variable(tf.zeros([1,1]))\n",
    "Wx_plus_b_L2 = tf.add(tf.matmul(L1, Weights_L2), Bias_L2)\n",
    "predict = tf.nn.tanh(Wx_plus_b_L2)"
   ]
  },
  {
   "cell_type": "code",
   "execution_count": 60,
   "metadata": {},
   "outputs": [],
   "source": [
    "# 定义二次代价函数\n",
    "loss = tf.reduce_mean(tf.square(y - predict))\n",
    "# 梯度下降法训练\n",
    "train_step = tf.train.GradientDescentOptimizer(0.1).minimize(loss)\n",
    "\n",
    "with tf.Session() as sess:\n",
    "    # 变量初始化\n",
    "    sess.run(tf.global_variables_initializer())\n",
    "    for _ in range(2000):\n",
    "        sess.run(train_step, feed_dict={x:x_data, y:y_data})\n",
    "        \n",
    "    # 获得预测值\n",
    "    prediction_value = sess.run(predict, feed_dict={x:x_data})\n",
    "    # 画图\n",
    "    plt.figure()\n",
    "    plt.scatter(x_data, y_data)\n",
    "    plt.plot(x_data, prediction_value, 'r-', lw = 5)\n",
    "    plt.show()"
   ]
  }
 ],
 "metadata": {
  "kernelspec": {
   "display_name": "Python 3",
   "language": "python",
   "name": "python3"
  },
  "language_info": {
   "codemirror_mode": {
    "name": "ipython",
    "version": 3
   },
   "file_extension": ".py",
   "mimetype": "text/x-python",
   "name": "python",
   "nbconvert_exporter": "python",
   "pygments_lexer": "ipython3",
   "version": "3.5.4"
  }
 },
 "nbformat": 4,
 "nbformat_minor": 2
}
