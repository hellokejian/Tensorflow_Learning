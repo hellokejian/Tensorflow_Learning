{
 "cells": [
  {
   "cell_type": "code",
   "execution_count": 1,
   "metadata": {},
   "outputs": [],
   "source": [
    "import tensorflow as tf\n",
    "import numpy as np"
   ]
  },
  {
   "cell_type": "code",
   "execution_count": 3,
   "metadata": {},
   "outputs": [],
   "source": [
    "# 使用numpy生成100个随机的点\n",
    "x_data = np.random.rand(100)\n",
    "y_data = x_data * 0.1 + 0.2\n",
    "# 构造一个线性模型\n",
    "b = tf.Variable(0.)\n",
    "k = tf.Variable(0.)\n",
    "y = k * x_data + b"
   ]
  },
  {
   "cell_type": "code",
   "execution_count": 5,
   "metadata": {},
   "outputs": [
    {
     "name": "stdout",
     "output_type": "stream",
     "text": [
      "0 [0.060211372, 0.10212713]\n",
      "20 [0.10771671, 0.19541036]\n",
      "40 [0.10437576, 0.19739746]\n",
      "60 [0.10248128, 0.19852422]\n",
      "80 [0.101407, 0.19916317]\n",
      "100 [0.10079785, 0.19952548]\n",
      "120 [0.10045242, 0.19973092]\n",
      "140 [0.10025654, 0.19984742]\n",
      "160 [0.10014546, 0.19991349]\n",
      "180 [0.10008248, 0.19995095]\n",
      "200 [0.10004677, 0.19997218]\n"
     ]
    }
   ],
   "source": [
    "# 定义一个二次代价函数\n",
    "loss = tf.reduce_mean(tf.square(y_data - y))\n",
    "# 定义一个梯度下降法来进行训练的优化器\n",
    "optimizer = tf.train.GradientDescentOptimizer(0.2)\n",
    "# 定义一个最小化代价函数\n",
    "train = optimizer.minimize(loss)\n",
    "\n",
    "init = tf.global_variables_initializer()\n",
    "with tf.Session() as sess:\n",
    "    sess.run(init)\n",
    "    for step in range(201):\n",
    "        sess.run(train)\n",
    "        if(step % 20 == 0):\n",
    "            print(step, sess.run([k,b]))"
   ]
  },
  {
   "cell_type": "code",
   "execution_count": null,
   "metadata": {},
   "outputs": [],
   "source": []
  }
 ],
 "metadata": {
  "kernelspec": {
   "display_name": "Python 3",
   "language": "python",
   "name": "python3"
  },
  "language_info": {
   "codemirror_mode": {
    "name": "ipython",
    "version": 3
   },
   "file_extension": ".py",
   "mimetype": "text/x-python",
   "name": "python",
   "nbconvert_exporter": "python",
   "pygments_lexer": "ipython3",
   "version": "3.5.4"
  }
 },
 "nbformat": 4,
 "nbformat_minor": 2
}
